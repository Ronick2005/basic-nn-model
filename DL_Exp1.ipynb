{
  "nbformat": 4,
  "nbformat_minor": 0,
  "metadata": {
    "colab": {
      "provenance": [],
      "gpuType": "T4"
    },
    "kernelspec": {
      "name": "python3",
      "display_name": "Python 3"
    },
    "language_info": {
      "name": "python"
    },
    "accelerator": "GPU"
  },
  "cells": [
    {
      "cell_type": "markdown",
      "source": [
        "**Name:** Ronick Aakshath P\n",
        "\n",
        "**Register Number:** 212222240084"
      ],
      "metadata": {
        "id": "FSIe8kB5VoDS"
      }
    },
    {
      "cell_type": "code",
      "source": [
        "from google.colab import auth\n",
        "import gspread\n",
        "from google.auth import default\n",
        "import pandas as pd"
      ],
      "metadata": {
        "id": "T1OW_xRc_BBl"
      },
      "execution_count": null,
      "outputs": []
    },
    {
      "cell_type": "code",
      "source": [
        "auth.authenticate_user()\n",
        "creds, _ = default()\n",
        "gc = gspread.authorize(creds)"
      ],
      "metadata": {
        "id": "12pS6HciAu1x"
      },
      "execution_count": null,
      "outputs": []
    },
    {
      "cell_type": "code",
      "source": [
        "worksheet = gc.open('exp1').sheet1"
      ],
      "metadata": {
        "id": "36mt0pb7AzvJ"
      },
      "execution_count": null,
      "outputs": []
    },
    {
      "cell_type": "code",
      "source": [
        "rows = worksheet.get_all_values()"
      ],
      "metadata": {
        "id": "4TwkNK8PBD0S"
      },
      "execution_count": null,
      "outputs": []
    },
    {
      "cell_type": "code",
      "source": [
        "df = pd.DataFrame(rows[1:], columns=rows[0])\n",
        "df = df.astype({'Input':'string'})\n",
        "df = df.astype({'Output':'string'})\n",
        "df.head()"
      ],
      "metadata": {
        "id": "W_ejdPg1BGcZ"
      },
      "execution_count": null,
      "outputs": []
    },
    {
      "cell_type": "code",
      "source": [
        "from sklearn.model_selection import train_test_split\n",
        "from sklearn.preprocessing import MinMaxScaler, LabelEncoder\n",
        "from tensorflow.keras.models import Sequential\n",
        "from tensorflow.keras.layers import Dense\n",
        "from tensorflow.keras.callbacks import EarlyStopping"
      ],
      "metadata": {
        "id": "5c2l4xOzBOKu"
      },
      "execution_count": null,
      "outputs": []
    },
    {
      "cell_type": "code",
      "source": [
        "le = LabelEncoder()\n",
        "df[\"Input\"] = le.fit_transform(df[\"Input\"])\n",
        "df[\"Output\"] = le.fit_transform(df[\"Output\"])"
      ],
      "metadata": {
        "id": "-u37v6UbxQ8o"
      },
      "execution_count": null,
      "outputs": []
    },
    {
      "cell_type": "code",
      "source": [
        "X = df[['Input']].values\n",
        "y = df[['Output']].values"
      ],
      "metadata": {
        "id": "ryPtKIV8HeEy"
      },
      "execution_count": null,
      "outputs": []
    },
    {
      "cell_type": "code",
      "source": [
        "X"
      ],
      "metadata": {
        "id": "4XISOCSEH2MO"
      },
      "execution_count": null,
      "outputs": []
    },
    {
      "cell_type": "code",
      "source": [
        "X_train, X_test, y_train, y_test = train_test_split(X, y, test_size = 0.2, random_state = 42)"
      ],
      "metadata": {
        "id": "AmYgE72YH207"
      },
      "execution_count": null,
      "outputs": []
    },
    {
      "cell_type": "code",
      "source": [
        "Scaler = MinMaxScaler()"
      ],
      "metadata": {
        "id": "UFZcfE_KIFUL"
      },
      "execution_count": null,
      "outputs": []
    },
    {
      "cell_type": "code",
      "source": [
        "X_train1 = Scaler.fit_transform(X_train)"
      ],
      "metadata": {
        "id": "qEgELTeVIfk2"
      },
      "execution_count": null,
      "outputs": []
    },
    {
      "cell_type": "code",
      "source": [
        "ai_brain = Sequential()"
      ],
      "metadata": {
        "id": "TQfu9gM8IpNh"
      },
      "execution_count": null,
      "outputs": []
    },
    {
      "cell_type": "code",
      "source": [
        "X_train.shape"
      ],
      "metadata": {
        "id": "6T4QTrLJmjC-"
      },
      "execution_count": null,
      "outputs": []
    },
    {
      "cell_type": "code",
      "source": [
        "ai_brain.add(Dense(5, activation = \"relu\", input_shape = X_train.shape))\n",
        "ai_brain.add(Dense(10, activation = \"relu\"))\n",
        "ai_brain.add(Dense(1))"
      ],
      "metadata": {
        "id": "23dtrpIeIu9B"
      },
      "execution_count": null,
      "outputs": []
    },
    {
      "cell_type": "code",
      "source": [
        "ai_brain.summary()"
      ],
      "metadata": {
        "id": "MZT_BTzeKFW0"
      },
      "execution_count": null,
      "outputs": []
    },
    {
      "cell_type": "code",
      "source": [
        "ai_brain.compile(optimizer = 'sgd', loss = 'mse')"
      ],
      "metadata": {
        "id": "3VMMcwPAKa6e"
      },
      "execution_count": null,
      "outputs": []
    },
    {
      "cell_type": "code",
      "source": [
        "ai_brain.fit(X_train1, y_train, epochs = 100)"
      ],
      "metadata": {
        "id": "jTK9NKMlKNoV"
      },
      "execution_count": null,
      "outputs": []
    },
    {
      "cell_type": "code",
      "source": [
        "ai_brain.history"
      ],
      "metadata": {
        "id": "igM_QBG9KUeD"
      },
      "execution_count": null,
      "outputs": []
    },
    {
      "cell_type": "code",
      "source": [
        "loss_df = pd.DataFrame(ai_brain.history.history)"
      ],
      "metadata": {
        "id": "brfLAa8jXykB"
      },
      "execution_count": null,
      "outputs": []
    },
    {
      "cell_type": "code",
      "source": [
        "import matplotlib.pyplot as plt"
      ],
      "metadata": {
        "id": "BJ3apZJycppA"
      },
      "execution_count": null,
      "outputs": []
    },
    {
      "cell_type": "code",
      "source": [
        "plt.title(\"loss curve\")\n",
        "plt.plot(loss_df)"
      ],
      "metadata": {
        "id": "gkf1GCDcX6P3"
      },
      "execution_count": null,
      "outputs": []
    },
    {
      "cell_type": "code",
      "source": [
        "X_test1 = Scaler.transform(X_test)"
      ],
      "metadata": {
        "id": "sVMEglwJgcEL"
      },
      "execution_count": null,
      "outputs": []
    },
    {
      "cell_type": "code",
      "source": [
        "ai_brain.evaluate(X_test1,y_test)"
      ],
      "metadata": {
        "id": "ouZf3PMMVZoo"
      },
      "execution_count": null,
      "outputs": []
    },
    {
      "cell_type": "code",
      "source": [
        "X_n1 = [[30]]"
      ],
      "metadata": {
        "id": "kY5jaMsrVcqY"
      },
      "execution_count": null,
      "outputs": []
    },
    {
      "cell_type": "code",
      "source": [
        "X_n1_1 = Scaler.transform(X_n1)"
      ],
      "metadata": {
        "id": "mVROYreWVgNP"
      },
      "execution_count": null,
      "outputs": []
    },
    {
      "cell_type": "code",
      "source": [
        "ai_brain.predict(X_n1_1)"
      ],
      "metadata": {
        "id": "kymhLyvFVilR"
      },
      "execution_count": null,
      "outputs": []
    },
    {
      "cell_type": "code",
      "source": [],
      "metadata": {
        "id": "dT6JNntyVkYm"
      },
      "execution_count": null,
      "outputs": []
    }
  ]
}